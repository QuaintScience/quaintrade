{
 "cells": [
  {
   "cell_type": "code",
   "execution_count": 4,
   "id": "98c840ac-0bbc-42dc-af35-e27f20ae7014",
   "metadata": {},
   "outputs": [],
   "source": [
    "redirect_uri = \"http://127.0.0.1:9595/fyers\"\n",
    "client_id = \"PY9D7R5NP3-100\"\n",
    "secret_key = \"O3D1PGI837\"\n",
    "grant_type = \"authorization_code\"\n",
    "response_type = \"code\"\n",
    "state = \"sample\""
   ]
  },
  {
   "cell_type": "code",
   "execution_count": 2,
   "id": "721ebf7a-9fef-47f0-a8af-79353e1f9a10",
   "metadata": {},
   "outputs": [],
   "source": [
    "from fyers_apiv3 import fyersModel"
   ]
  },
  {
   "cell_type": "code",
   "execution_count": 3,
   "id": "5135c3cd-dbbd-46e6-9707-fc272e267c37",
   "metadata": {},
   "outputs": [
    {
     "name": "stdout",
     "output_type": "stream",
     "text": [
      "https://api-t1.fyers.in/api/v3/generate-authcode?client_id=PY9D7R5NP3-100&redirect_uri=http%3A%2F%2F127.0.0.1%3A9595%2Ffyers&response_type=code&state=sample\n"
     ]
    }
   ],
   "source": [
    "appSession = fyersModel.SessionModel(client_id=client_id,\n",
    "                                             redirect_uri=redirect_uri,\n",
    "                                             response_type=response_type,\n",
    "                                             state=state,\n",
    "                                             secret_key=secret_key,\n",
    "                                             grant_type=grant_type)\n",
    "generateTokenUrl = appSession.generate_authcode()\n",
    "print(generateTokenUrl)"
   ]
  },
  {
   "cell_type": "code",
   "execution_count": 2,
   "id": "00d698ec-373f-441e-b7ea-57fc2336eb9c",
   "metadata": {},
   "outputs": [],
   "source": [
    "from quaintscience.trader.integration.fyers import FyersHistoricDataProvider"
   ]
  },
  {
   "cell_type": "code",
   "execution_count": 5,
   "id": "d89ec276-9de9-4473-a2c0-ef7db5a4dbea",
   "metadata": {},
   "outputs": [],
   "source": [
    "provider = FyersHistoricDataProvider(auth_credentials={\"REDIRECT_URI\": redirect_uri, \"CLIENT_ID\": client_id, \"SECRET_KEY\": secret_key}, auth_cache_filepath=\"auth_cache/\", data_path=\"data/\")"
   ]
  },
  {
   "cell_type": "code",
   "execution_count": 7,
   "id": "33c89bc3-b1b1-473a-8805-5f87872c53ef",
   "metadata": {},
   "outputs": [
    {
     "name": "stdout",
     "output_type": "stream",
     "text": [
      "LOG | info: Loading access token from auth_cache/fyers/access_token.json\n",
      "LOG | info: Found auth state {'state': 'Logged in', 'access_token': 'eyJ0eXAiOiJKV1QiLCJhbGciOiJIUzI1NiJ9.eyJpc3MiOiJhcGkuZnllcnMuaW4iLCJpYXQiOjE3MDQzOTA2MjcsImV4cCI6MTcwNDQxNDYyNywibmJmIjoxNzA0MzkwNjI3LCJhdWQiOlsieDowIiwieDoxIiwieDoyIiwiZDoxIiwiZDoyIiwieDoxIiwieDowIl0sInN1YiI6ImFjY2Vzc190b2tlbiIsImF0X2hhc2giOiJnQUFBQUFCbGx1X2pPTnBxZU1UQ1k1R09RTzFpbDJUVXppMXdRMDVCTXM0UkFCZy1GM3NDNXhpX2Zoa3dhVTgwcmNkVHZoRUxIN2R5NFN4RnA1OG9KdGtvTGptaHRka0NBRGZZTkNqUUVsUmxsSHd0UlJMUF9iTT0iLCJkaXNwbGF5X25hbWUiOiJUSEFUVEFHVVBQQSBDSElUVEFSQU5KQU4gR09LVUwiLCJvbXMiOiJLMSIsImhzbV9rZXkiOiIxNTBkYzM4YzhmNTMyZmE0ZTljYTAxMmIzZDRlNDQ1MjUxOGQyNGI4NjJkOTY3Mzg2Nzg2NWUyMCIsImZ5X2lkIjoiWVQwMDQwNSIsImFwcFR5cGUiOjEwMCwicG9hX2ZsYWciOiJOIn0.Is4QzpXfI12oX0QMgKnPn0BgK6fviRz_pMMQBNYazNw', 'login_time': '2024-01-04 23:20:27'}\n"
     ]
    }
   ],
   "source": [
    "provider.login()"
   ]
  },
  {
   "cell_type": "code",
   "execution_count": 7,
   "id": "6bff2ed4-b34a-44e1-b679-cb14bb26f852",
   "metadata": {},
   "outputs": [
    {
     "data": {
      "text/plain": [
       "{'state': 'Logged in',\n",
       " 'access_token': 'eyJ0eXAiOiJKV1QiLCJhbGciOiJIUzI1NiJ9.eyJpc3MiOiJhcGkuZnllcnMuaW4iLCJpYXQiOjE3MDQzOTA2MjcsImV4cCI6MTcwNDQxNDYyNywibmJmIjoxNzA0MzkwNjI3LCJhdWQiOlsieDowIiwieDoxIiwieDoyIiwiZDoxIiwiZDoyIiwieDoxIiwieDowIl0sInN1YiI6ImFjY2Vzc190b2tlbiIsImF0X2hhc2giOiJnQUFBQUFCbGx1X2pPTnBxZU1UQ1k1R09RTzFpbDJUVXppMXdRMDVCTXM0UkFCZy1GM3NDNXhpX2Zoa3dhVTgwcmNkVHZoRUxIN2R5NFN4RnA1OG9KdGtvTGptaHRka0NBRGZZTkNqUUVsUmxsSHd0UlJMUF9iTT0iLCJkaXNwbGF5X25hbWUiOiJUSEFUVEFHVVBQQSBDSElUVEFSQU5KQU4gR09LVUwiLCJvbXMiOiJLMSIsImhzbV9rZXkiOiIxNTBkYzM4YzhmNTMyZmE0ZTljYTAxMmIzZDRlNDQ1MjUxOGQyNGI4NjJkOTY3Mzg2Nzg2NWUyMCIsImZ5X2lkIjoiWVQwMDQwNSIsImFwcFR5cGUiOjEwMCwicG9hX2ZsYWciOiJOIn0.Is4QzpXfI12oX0QMgKnPn0BgK6fviRz_pMMQBNYazNw',\n",
       " 'login_time': '2024-01-04 23:20:27'}"
      ]
     },
     "execution_count": 7,
     "metadata": {},
     "output_type": "execute_result"
    }
   ],
   "source": [
    "provider.auth_state"
   ]
  },
  {
   "cell_type": "code",
   "execution_count": 8,
   "id": "4c756565-4a65-4dcf-b699-4bc0f51bc597",
   "metadata": {},
   "outputs": [],
   "source": [
    "fyers = fyersModel.FyersModel(token=provider.auth_state[\"access_token\"],\n",
    "                                                is_async=False,\n",
    "                                                client_id=provider.auth_credentials[\"CLIENT_ID\"],\n",
    "                                                log_path=\"\")"
   ]
  },
  {
   "cell_type": "code",
   "execution_count": 9,
   "id": "ec53278e-ba03-4965-83a0-d6b1d4a0cd20",
   "metadata": {},
   "outputs": [
    {
     "data": {
      "text/plain": [
       "{'s': 'error',\n",
       " 'code': -8,\n",
       " 'message': 'Your token has expired. Please generate a token'}"
      ]
     },
     "execution_count": 9,
     "metadata": {},
     "output_type": "execute_result"
    }
   ],
   "source": [
    "provider.fyers.get_profile()"
   ]
  },
  {
   "cell_type": "code",
   "execution_count": 13,
   "id": "48ca0552-f950-481d-9519-db7b5d192f85",
   "metadata": {},
   "outputs": [],
   "source": [
    "data = {\"symbol\":\"NSE:SBIN-EQ\",\"resolution\":\"1\",\"date_format\":\"1\",\"range_from\":\"2023-01-01\",\"range_to\":\"2023-01-31\",\"cont_flag\":\"1\"}"
   ]
  },
  {
   "cell_type": "code",
   "execution_count": 14,
   "id": "18654da0-ae0b-4491-8d8c-ed3aba6cabae",
   "metadata": {},
   "outputs": [],
   "source": [
    "\n",
    "history = fyers.history(data)"
   ]
  },
  {
   "cell_type": "code",
   "execution_count": 16,
   "id": "e6acaf5d-610d-46d6-8850-c2f418199dd3",
   "metadata": {},
   "outputs": [],
   "source": [
    "d = history['candles']"
   ]
  },
  {
   "cell_type": "code",
   "execution_count": 18,
   "id": "78f3ada9-4036-4cb0-807b-f51cbdbd5788",
   "metadata": {},
   "outputs": [],
   "source": [
    "import pandas as pd"
   ]
  },
  {
   "cell_type": "code",
   "execution_count": 22,
   "id": "8f9dc74d-bef1-4d59-89c5-baab9614c8e4",
   "metadata": {},
   "outputs": [],
   "source": [
    "df = pd.DataFrame(d, columns=[\"date\", \"open\", \"high\", \"low\", \"close\", \"volume\"])"
   ]
  },
  {
   "cell_type": "code",
   "execution_count": 26,
   "id": "4e6b0c7d-c027-4fe5-b6e7-267d1488bcaf",
   "metadata": {},
   "outputs": [
    {
     "data": {
      "text/plain": [
       "0      2023-01-02 03:45:00\n",
       "1      2023-01-02 03:46:00\n",
       "2      2023-01-02 03:47:00\n",
       "3      2023-01-02 03:48:00\n",
       "4      2023-01-02 03:49:00\n",
       "               ...        \n",
       "7870   2023-01-31 09:55:00\n",
       "7871   2023-01-31 09:56:00\n",
       "7872   2023-01-31 09:57:00\n",
       "7873   2023-01-31 09:58:00\n",
       "7874   2023-01-31 09:59:00\n",
       "Name: date, Length: 7875, dtype: datetime64[ns]"
      ]
     },
     "execution_count": 26,
     "metadata": {},
     "output_type": "execute_result"
    }
   ],
   "source": [
    "pd.to_datetime(df['date'],unit='s')"
   ]
  },
  {
   "cell_type": "code",
   "execution_count": 1,
   "id": "ad61543c-fe1a-432d-867a-4d1ce1785680",
   "metadata": {},
   "outputs": [
    {
     "ename": "IndentationError",
     "evalue": "expected an indented block after 'if' statement on line 81 (bot.py, line 83)",
     "output_type": "error",
     "traceback": [
      "Traceback \u001b[0;36m(most recent call last)\u001b[0m:\n",
      "\u001b[0m  File \u001b[1;32m/code/github/finance/quaintrade/venv/lib/python3.11/site-packages/IPython/core/interactiveshell.py:3548\u001b[0m in \u001b[1;35mrun_code\u001b[0m\n    exec(code_obj, self.user_global_ns, self.user_ns)\u001b[0m\n",
      "\u001b[0m  Cell \u001b[1;32mIn[1], line 1\u001b[0m\n    from quaintscience.trader.service.historicdata_downloader import HistoricDataDownloader\u001b[0m\n",
      "\u001b[0m  File \u001b[1;32m/code/github/finance/quaintrade/quaintrade/src/main/python/quaintscience/trader/service/historicdata_downloader.py:2\u001b[0m\n    from .common import DataProviderService\u001b[0m\n",
      "\u001b[0;36m  File \u001b[0;32m/code/github/finance/quaintrade/quaintrade/src/main/python/quaintscience/trader/service/common.py:11\u001b[0;36m\n\u001b[0;31m    from ..core.bot import Bot\u001b[0;36m\n",
      "\u001b[0;36m  File \u001b[0;32m/code/github/finance/quaintrade/quaintrade/src/main/python/quaintscience/trader/core/bot.py:83\u001b[0;36m\u001b[0m\n\u001b[0;31m    def backtest(self,\u001b[0m\n\u001b[0m    ^\u001b[0m\n\u001b[0;31mIndentationError\u001b[0m\u001b[0;31m:\u001b[0m expected an indented block after 'if' statement on line 81\n"
     ]
    }
   ],
   "source": [
    "from quaintscience.trader.service.historicdata_downloader import HistoricDataDownloader\n"
   ]
  },
  {
   "cell_type": "code",
   "execution_count": null,
   "id": "de774028-e0e8-40c7-aad8-b9d0e4d642ac",
   "metadata": {},
   "outputs": [],
   "source": []
  }
 ],
 "metadata": {
  "kernelspec": {
   "display_name": "Python 3 (ipykernel)",
   "language": "python",
   "name": "python3"
  },
  "language_info": {
   "codemirror_mode": {
    "name": "ipython",
    "version": 3
   },
   "file_extension": ".py",
   "mimetype": "text/x-python",
   "name": "python",
   "nbconvert_exporter": "python",
   "pygments_lexer": "ipython3",
   "version": "3.11.6"
  }
 },
 "nbformat": 4,
 "nbformat_minor": 5
}
