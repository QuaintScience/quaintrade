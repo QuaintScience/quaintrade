{
 "cells": [
  {
   "cell_type": "code",
   "execution_count": 1,
   "id": "e6a02ace-0604-4964-92ae-c524d5ebfc26",
   "metadata": {},
   "outputs": [],
   "source": [
    "import pandas as pd\n",
    "pd.set_option('display.max_rows', 100)\n",
    "pd.set_option('display.min_rows', 100)\n"
   ]
  },
  {
   "cell_type": "code",
   "execution_count": 2,
   "id": "1abcb25c-1ff7-4c04-9312-a54aa4665b61",
   "metadata": {},
   "outputs": [],
   "source": [
    "from quaintscience.trader.service.backtester import BackTesterService"
   ]
  },
  {
   "cell_type": "code",
   "execution_count": 3,
   "id": "03822f16-eb2f-486d-8c83-f491862787d9",
   "metadata": {},
   "outputs": [],
   "source": [
    "scrip = \"NIFTY 50\"\n",
    "exchange = \"NSE\""
   ]
  },
  {
   "cell_type": "code",
   "execution_count": 19,
   "id": "011c7af2-6c44-4d2f-9bed-17138fe0f1be",
   "metadata": {},
   "outputs": [
    {
     "name": "stdout",
     "output_type": "stream",
     "text": [
      "LOG | info: Reading ../data_cache/kite/historical_data/NSE/NIFTY_50/data-NIFTY_50-NSE-20230306-20230505.csv\n",
      "LOG | info: Reading ../data_cache/kite/historical_data/NSE/NIFTY_50/data-NIFTY_50-NSE-20230704-20230902.csv\n",
      "LOG | info: Reading ../data_cache/kite/historical_data/NSE/NIFTY_50/data-NIFTY_50-NSE-20230902-20231101.csv\n",
      "LOG | info: Reading ../data_cache/kite/historical_data/NSE/NIFTY_50/data-NIFTY_50-NSE-20230105-20230306.csv\n",
      "LOG | info: Reading ../data_cache/kite/historical_data/NSE/NIFTY_50/data-NIFTY_50-NSE-20230505-20230704.csv\n",
      "LOG | info: Reading ../data_cache/kite/historical_data/NSE/NIFTY_50/data-NIFTY_50-NSE-20231101-20231106.csv\n",
      "LOG | info: Reading ../data_cache/kite/historical_data/NSE/NIFTY_50/data-NIFTY_50-NSE-20230907-20231106.csv\n",
      "LOG | info: Reading ../data_cache/kite/historical_data/NSE/NIFTY_50/data-NIFTY_50-NSE-20221106-20230105.csv\n",
      "LOG | info: Read 9424 rows.\n"
     ]
    }
   ],
   "source": [
    "service = BackTesterService(from_date=\"20230101\", to_date=\"20231231\", interval=\"10min\",\n",
    "                          redis_server=\"localhost\", redis_port=6379, instruments=f\"{scrip}:{exchange}\",\n",
    "                            cache_path=\"../data_cache/kite\")"
   ]
  },
  {
   "cell_type": "code",
   "execution_count": null,
   "id": "04d2a126-622a-445e-9dd8-314bf8039e8e",
   "metadata": {},
   "outputs": [],
   "source": [
    "instrument = {\"scrip\": scrip, \"exchange\": exchange}\n",
    "df = service.trade_manager.get_historic_data(scrip=instrument[\"scrip\"],\n",
    "                                                      exchange=instrument[\"exchange\"],\n",
    "                                                      interval=service.interval,\n",
    "                                                      from_date=service.from_date,\n",
    "                                                      to_date=service.to_date,\n",
    "                                                      download=False)"
   ]
  },
  {
   "cell_type": "code",
   "execution_count": 7,
   "id": "ba0c995a-cb0f-4718-becf-69afedfb736a",
   "metadata": {},
   "outputs": [],
   "source": [
    "from quaintscience.trader.core.indicator import HeikinAshiIndicator\n",
    "#df = HeikinAshiIndicator().compute(df)[0]"
   ]
  },
  {
   "cell_type": "raw",
   "id": "4120c445-da99-4ccc-97e4-30fab397055c",
   "metadata": {},
   "source": [
    "from quaintscience.trader.core.indicator import DonchainIndicator\n",
    "donchain_indicator = DonchainIndicator(period=15)"
   ]
  },
  {
   "cell_type": "code",
   "execution_count": 8,
   "id": "53b9d1cd-6194-4f1c-afa0-6a2b574b2276",
   "metadata": {},
   "outputs": [],
   "source": [
    "#df = donchain_indicator.compute(df)[0]"
   ]
  },
  {
   "cell_type": "code",
   "execution_count": 9,
   "id": "11547dfe-f4b6-4985-9c14-d880864ca99e",
   "metadata": {},
   "outputs": [],
   "source": [
    "from quaintscience.trader.core.indicator import WMAIndicator"
   ]
  },
  {
   "cell_type": "code",
   "execution_count": 10,
   "id": "e1c3dbed-0dc3-4ee2-9c6b-9475836fcab2",
   "metadata": {},
   "outputs": [],
   "source": [
    "df = WMAIndicator(period=20).compute(df)[0]\n",
    "df = WMAIndicator(period=10).compute(df)[0]"
   ]
  },
  {
   "cell_type": "code",
   "execution_count": 11,
   "id": "4781012a-3761-40b2-b1c7-579713ef802a",
   "metadata": {},
   "outputs": [],
   "source": [
    "from quaintscience.trader.core.indicator import DonchainPullbackLocator"
   ]
  },
  {
   "cell_type": "code",
   "execution_count": 12,
   "id": "fa6a3d9e-8120-4a4f-bb46-6eb98c2f7ad8",
   "metadata": {},
   "outputs": [
    {
     "name": "stdout",
     "output_type": "stream",
     "text": [
      "Found pullback (upper)\n",
      "Found pullback (upper)\n",
      "Found pullback (upper)\n",
      "Found pullback (upper)\n",
      "Found pullback (upper)\n",
      "Found pullback (upper)\n",
      "Found pullback (upper)\n",
      "Found pullback (upper)\n",
      "Found pullback (upper)\n",
      "Found pullback (upper)\n",
      "Found pullback (upper)\n",
      "Found pullback (upper)\n",
      "Found pullback (upper)\n",
      "Found pullback (upper)\n",
      "Found pullback (upper)\n",
      "Found pullback (upper)\n",
      "Found pullback (upper)\n",
      "Found pullback (upper)\n",
      "Found pullback (upper)\n",
      "Found pullback (upper)\n",
      "Found pullback (upper)\n",
      "Found pullback (upper)\n",
      "Found pullback (upper)\n",
      "Found pullback (upper)\n",
      "Found pullback (upper)\n",
      "Found pullback (upper)\n",
      "Found pullback (upper)\n",
      "Found pullback (upper)\n"
     ]
    }
   ],
   "source": [
    "df = DonchainPullbackLocator(period=15, data_period=\"10min\").compute(df)[0]"
   ]
  },
  {
   "cell_type": "raw",
   "id": "c2e9b922-edea-4133-8450-77a65a6c626b",
   "metadata": {},
   "source": [
    "df[\"donchainUpperPrevious\"] = df[\"donchainUpper\"].shift(1, freq=\"10min\")\n",
    "df[\"donchainLowerPrevious\"] = df[\"donchainLower\"].shift(1, freq=\"10min\")"
   ]
  },
  {
   "cell_type": "raw",
   "id": "dfe48559-8eeb-4a48-8a21-27f0ec3f31dc",
   "metadata": {},
   "source": [
    "df[\"UpperBreakouts\"] = 0.0\n",
    "df[\"LowerBreakouts\"] = 0.0\n",
    "df.loc[df[\"high\"] >= df[\"donchainUpperPrevious\"], \"UpperBreakouts\"] = 1.0\n",
    "df.loc[df[\"low\"] <= df[\"donchainLowerPrevious\"], \"LowerBreakouts\"] = 1.0"
   ]
  },
  {
   "cell_type": "raw",
   "id": "0f5948ff-73d8-4dcb-8538-edc3f9f05c2c",
   "metadata": {},
   "source": [
    "after_breakout = False\n",
    "pull_back_in_progress = False\n",
    "\n",
    "pull_backs = []\n",
    "df[\"upperPullback\"] = 0.0\n",
    "prev_row = None\n",
    "for row_id, row in df.iterrows():\n",
    "    if prev_row is not None and row[\"UpperBreakouts\"] != 1.0 and prev_row[\"UpperBreakouts\"] == 1.0:\n",
    "        if row[\"close\"] <= row[\"open\"]:\n",
    "            pull_back_in_progress = True\n",
    "        else:\n",
    "            after_breakout = True\n",
    "        prev_row = row\n",
    "        continue\n",
    "    if after_breakout:\n",
    "        if row[\"close\"] > row[\"open\"]:\n",
    "            prev_row = row\n",
    "            continue\n",
    "        elif (row[\"close\"] <= row[\"open\"]\n",
    "              and (row[\"open\"] - row[\"close\"]) / (row[\"high\"] - row[\"low\"]) >= 0.60):\n",
    "            pull_back_in_progress = True\n",
    "            after_breakout = False\n",
    "    elif pull_back_in_progress:\n",
    "        if row[\"open\"] <= row[\"close\"]:\n",
    "            df.loc[row.name, \"upperPullback\"] = 1.0\n",
    "            pull_back_in_progress = False\n",
    "        elif (row[\"close\"] < row[\"donchainMiddle\"]\n",
    "              and row[\"open\"] > row[\"close\"]\n",
    "              and (row[\"high\"] - row[\"open\"]) <= 3\n",
    "              and abs(row[\"low\"] - row[\"donchainLower\"]) > 10):\n",
    "            print(\"Found pullback (upper)\")\n",
    "            df.loc[row.name, \"upperPullback\"] = 2.0\n",
    "            pull_back_in_progress = False\n",
    "        elif row[\"close\"] < row[\"donchainMiddle\"]:\n",
    "            pull_back_in_progress = False\n",
    "    prev_row = row\n",
    "\n",
    "df[\"lowerPullback\"] = 0.0\n",
    "\n",
    "for row_id, row in df.iterrows():\n",
    "    if prev_row is not None and row[\"LowerBreakouts\"] != 1.0 and prev_row[\"LowerBreakouts\"] == 1.0:\n",
    "        if (row[\"close\"] >= row[\"open\"]\n",
    "            and (row[\"close\"] - row[\"open\"]) / (row[\"high\"] - row[\"low\"]) >= 0.60):\n",
    "            pull_back_in_progress = True\n",
    "        else:\n",
    "            after_breakout = True\n",
    "        prev_row = row\n",
    "        continue\n",
    "    if after_breakout:\n",
    "        if row[\"close\"] < row[\"open\"]:\n",
    "            prev_row = row\n",
    "            continue\n",
    "        elif row[\"close\"] >= row[\"open\"]:\n",
    "            pull_back_in_progress = True\n",
    "            after_breakout = False\n",
    "    elif pull_back_in_progress:\n",
    "        if row[\"close\"] <= row[\"open\"]:\n",
    "            df.loc[row.name, \"lowerPullback\"] = 1.0\n",
    "            pull_back_in_progress = False\n",
    "        elif (row[\"close\"] > row[\"donchainMiddle\"]\n",
    "              and row[\"open\"] < row[\"close\"]\n",
    "              and (row[\"low\"] - row[\"open\"]) <= 3\n",
    "              and abs(row[\"high\"] - row[\"donchainUpper\"]) > 10):\n",
    "            df.loc[row.name, \"lowerPullback\"] = 2.0\n",
    "            pull_back_in_progress = False\n",
    "        elif row[\"close\"] > row[\"donchainMiddle\"]:\n",
    "            pull_back_in_progress = False\n",
    "    prev_row = row"
   ]
  },
  {
   "cell_type": "code",
   "execution_count": null,
   "id": "8c01aac4-48ee-4b9f-bf20-9737223dcedb",
   "metadata": {},
   "outputs": [],
   "source": []
  },
  {
   "cell_type": "raw",
   "id": "a8360f21-b88b-4d5e-92c4-de40a0594ff8",
   "metadata": {},
   "source": [
    "import numpy as np"
   ]
  },
  {
   "cell_type": "raw",
   "id": "37c0f3d9-437b-4118-a7a5-9e0e4f8848df",
   "metadata": {},
   "source": [
    "from sklearn.cluster import KMeans\n",
    "from sklearn.metrics import pairwise_distances_argmin_min\n",
    "    \n",
    "def cluster_data(data, k=5):\n",
    "    srdata = np.reshape(data, (-1, 1))\n",
    "    model = KMeans(n_clusters=k, random_state=2023, n_init='auto')\n",
    "    model.fit(srdata)\n",
    "    closest, _ = pairwise_distances_argmin_min(model.cluster_centers_, srdata)\n",
    "    np.reshape(srdata[closest], (1, -1))[0].tolist()\n",
    "    cluster_centers = np.reshape(srdata[closest], (1, -1))[0].tolist()\n",
    "    return cluster_centers\n",
    "    \n",
    "\n",
    "df[\"support\"] = 0\n",
    "all_cluster_centers = []\n",
    "for month in range(1, 6):\n",
    "    cluster_centers = cluster_data(df[(df.index > f\"2023{month:02d}01\") &  (df.index < f\"2023{month+1:02d}01\")][\"close\"].to_numpy())\n",
    "\n",
    "    #cluster_centers = model.subcluster_centers_\n",
    "    #cluster_centers = np.reshape(cluster_centers, (1, -1))[0].tolist()\n",
    "    all_cluster_centers.extend(cluster_centers)\n",
    "\n",
    "cluster_centers = cluster_data(all_cluster_centers, k=10)\n",
    "\n",
    "#cluster_centers = all_cluster_centers\n",
    "\n",
    "#for k in range(1, 20):\n",
    "#    print(k)\n",
    "#    model = KMeans(n_clusters=k, random_state=2023, n_init='auto')\n",
    "#    model.fit(srdata)\n",
    "#    sse[k] = model.inertia_\n",
    "#model = Birch(n_clusters=10)\n",
    "#import matplotlib.pyplot as plt\n",
    "#plt.figure()\n",
    "#plt.plot(list(sse.keys()), list(sse.values()))\n",
    "#plt.xlabel(\"Number of cluster\")\n",
    "#plt.ylabel(\"SSE\")\n",
    "#plt.show()\n"
   ]
  },
  {
   "cell_type": "code",
   "execution_count": 13,
   "id": "3055adb6-d9d7-4337-a39e-566a378e1c14",
   "metadata": {},
   "outputs": [],
   "source": [
    "factor = 0.04/100.\n",
    "df[\"WMA20Upper\"] = df[\"WMA20\"] * (1 + factor)\n",
    "df[\"WMA20Lower\"] = df[\"WMA20\"] * (1 - factor)"
   ]
  },
  {
   "cell_type": "code",
   "execution_count": 14,
   "id": "cfad7075-95d8-416c-aafa-46c25acda212",
   "metadata": {},
   "outputs": [],
   "source": [
    "from quaintscience.trader.core.graphing import backtesting_results_plot\n",
    "import numpy as np"
   ]
  },
  {
   "cell_type": "code",
   "execution_count": 15,
   "id": "e41b6916-4127-493c-89c1-5b75d1b1a0da",
   "metadata": {},
   "outputs": [],
   "source": [
    "from quaintscience.trader.core.indicator import BreakoutIndicator"
   ]
  },
  {
   "cell_type": "code",
   "execution_count": 16,
   "id": "c5df4121-07eb-44db-8ab9-f35383f82dc8",
   "metadata": {},
   "outputs": [],
   "source": [
    "df = BreakoutIndicator(upper_breakout_column=\"donchainUpper\",\n",
    "                       lower_breakout_column=\"donchainLower\",\n",
    "                       data_interval=\"10min\").compute(df)[0]"
   ]
  },
  {
   "cell_type": "code",
   "execution_count": 17,
   "id": "07a7da27-2a7e-4bbf-8034-c5f4fb6dfb29",
   "metadata": {},
   "outputs": [
    {
     "name": "stderr",
     "output_type": "stream",
     "text": [
      "/code/github/finance/quaintrade/venv/lib/python3.11/site-packages/mplfinance/_arg_validators.py:84: UserWarning: \n",
      "\n",
      " ================================================================= \n",
      "\n",
      "   WARNING: YOU ARE PLOTTING SO MUCH DATA THAT IT MAY NOT BE\n",
      "            POSSIBLE TO SEE DETAILS (Candles, Ohlc-Bars, Etc.)\n",
      "   For more information see:\n",
      "   - https://github.com/matplotlib/mplfinance/wiki/Plotting-Too-Much-Data\n",
      "   \n",
      "   TO SILENCE THIS WARNING, set `type='line'` in `mpf.plot()`\n",
      "   OR set kwarg `warn_too_much_data=N` where N is an integer \n",
      "   LARGER than the number of data points you want to plot.\n",
      "\n",
      " ================================================================ \n",
      "  warnings.warn('\\n\\n ================================================================= '+\n"
     ]
    }
   ],
   "source": [
    "backtesting_results_plot(df, [], indicator_fields=[#{\"field\": \"lowerPullback\", \"panel\": 1},\n",
    "                                                   #{\"field\": \"upperPullback\", \"panel\": 1},\n",
    "                                                    {\"field\": \"donchainUpper_breakout\", \"panel\": 1},\n",
    "                                                    {\"field\": \"donchainUpper_breakout\", \"panel\": 1},\n",
    "                                                   \"donchainUpper\",\n",
    "                                                   \"donchainMiddle\",\n",
    "                                                   \"WMA20\",\n",
    "                                                   \"WMA10\",\n",
    "                                                   \"donchainLower\"], mpf_custom_kwargs={\"ylim\": (np.mean(df[\"close\"]) - 1.5 * df[\"close\"].std(), np.mean(df[\"close\"]) + 1.5 * df[\"close\"].std()), \"fill_between\": {\"y1\": df[\"WMA20Upper\"].fillna(0.).values, \"y2\": df[\"WMA20Lower\"].fillna(0.).values, \"alpha\": 0.5}})"
   ]
  },
  {
   "cell_type": "code",
   "execution_count": 17,
   "id": "b132354f-7bff-4813-bb1f-f9655345cba8",
   "metadata": {},
   "outputs": [
    {
     "ename": "NameError",
     "evalue": "name 'y' is not defined",
     "output_type": "error",
     "traceback": [
      "\u001b[0;31m---------------------------------------------------------------------------\u001b[0m",
      "\u001b[0;31mNameError\u001b[0m                                 Traceback (most recent call last)",
      "Cell \u001b[0;32mIn[17], line 1\u001b[0m\n\u001b[0;32m----> 1\u001b[0m \u001b[43my\u001b[49m\n",
      "\u001b[0;31mNameError\u001b[0m: name 'y' is not defined"
     ]
    }
   ],
   "source": [
    "y"
   ]
  },
  {
   "cell_type": "code",
   "execution_count": null,
   "id": "ac142e0c-9ce9-4c1b-865d-461891673d53",
   "metadata": {},
   "outputs": [],
   "source": [
    "(df[\"lowerPullback\"] > 0).sum()"
   ]
  },
  {
   "cell_type": "code",
   "execution_count": null,
   "id": "693e0c10-409b-4141-8239-424377ba038b",
   "metadata": {},
   "outputs": [],
   "source": [
    "(df[\"upperPullback\"] > 0).sum()"
   ]
  },
  {
   "cell_type": "code",
   "execution_count": null,
   "id": "969ea171-8c56-4fd9-924c-c9c982a48fef",
   "metadata": {},
   "outputs": [],
   "source": [
    "import matplotlib.pyplot as plt\n",
    "from scipy import signal, fftpack\n",
    "import numpy as np\n"
   ]
  },
  {
   "cell_type": "code",
   "execution_count": null,
   "id": "2c1f88cb-3e7a-4092-9784-cf7d1c871d6c",
   "metadata": {},
   "outputs": [],
   "source": [
    "#f, t, Sxx = signal.spectrogram(df[\"close\"].to_numpy(), 5)\n",
    "#plt.pcolormesh(t, f, Sxx, shading='gouraud')\n",
    "#plt.specgram(df[\"close\"], Fs=12, cmap=\"rainbow\")\n",
    "#plt.show()"
   ]
  },
  {
   "cell_type": "code",
   "execution_count": null,
   "id": "774d5242-8cfb-49bf-b84b-7965106da6de",
   "metadata": {},
   "outputs": [],
   "source": [
    "#fig, axs = plt.subplots(2)\n",
    "\n",
    "#a1 = df[df.index < \"2023-04-01\"][\"high\"].to_numpy()\n",
    "#x, y = np.histogram(a1, bins=250)\n",
    "#a2 = df[df.index >= \"2023-04-01\"][\"high\"].to_numpy()\n",
    "#x1, y1 = np.histogram(a2, bins=250)"
   ]
  },
  {
   "cell_type": "code",
   "execution_count": null,
   "id": "f649ff32-b933-4ab8-a9bf-ec02d5df0f8c",
   "metadata": {},
   "outputs": [],
   "source": [
    "#axs[0].plot(y[:-1], x)\n",
    "#axs[1].plot(y1[:-1], x1)\n",
    "#plt.show()\n"
   ]
  },
  {
   "cell_type": "code",
   "execution_count": null,
   "id": "03c4ecf4-2430-4f6a-8e36-093c92be5abf",
   "metadata": {},
   "outputs": [],
   "source": [
    "#print(len(df[df.index < \"2023-04-01\"][\"close\"]), len(df[df.index >= \"2023-04-01\"][\"close\"]))"
   ]
  },
  {
   "cell_type": "code",
   "execution_count": null,
   "id": "940593ae-ad22-4762-b42c-215c49cb12b5",
   "metadata": {},
   "outputs": [],
   "source": []
  },
  {
   "cell_type": "code",
   "execution_count": null,
   "id": "44bb5c44-df78-4154-9ca6-178867a9330b",
   "metadata": {},
   "outputs": [],
   "source": []
  },
  {
   "cell_type": "code",
   "execution_count": null,
   "id": "69e9fdc3-d4e1-44e0-aef2-13117641a8f6",
   "metadata": {},
   "outputs": [],
   "source": []
  },
  {
   "cell_type": "code",
   "execution_count": null,
   "id": "0929d708-8a5c-4983-93f6-f2f48422f2fd",
   "metadata": {},
   "outputs": [],
   "source": []
  },
  {
   "cell_type": "code",
   "execution_count": null,
   "id": "9abaeb91-1e7a-4a99-b9ca-d066d45bd8aa",
   "metadata": {},
   "outputs": [],
   "source": []
  }
 ],
 "metadata": {
  "kernelspec": {
   "display_name": "Python 3 (ipykernel)",
   "language": "python",
   "name": "python3"
  },
  "language_info": {
   "codemirror_mode": {
    "name": "ipython",
    "version": 3
   },
   "file_extension": ".py",
   "mimetype": "text/x-python",
   "name": "python",
   "nbconvert_exporter": "python",
   "pygments_lexer": "ipython3",
   "version": "3.11.6"
  }
 },
 "nbformat": 4,
 "nbformat_minor": 5
}
